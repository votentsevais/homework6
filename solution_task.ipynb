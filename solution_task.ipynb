{
 "cells": [
  {
   "cell_type": "markdown",
   "metadata": {},
   "source": [
    "# Задача №1"
   ]
  },
  {
   "cell_type": "code",
   "execution_count": 1,
   "metadata": {},
   "outputs": [],
   "source": [
    "f = open('purchase_log.txt',encoding='utf-8')"
   ]
  },
  {
   "cell_type": "code",
   "execution_count": 2,
   "metadata": {},
   "outputs": [],
   "source": [
    "f.readline()\n",
    "purchase_log_data = f.readlines()"
   ]
  },
  {
   "cell_type": "code",
   "execution_count": 3,
   "metadata": {},
   "outputs": [],
   "source": [
    "i = 1\n",
    "import json\n",
    "for l in purchase_log_data:\n",
    "    l = l.strip()\n",
    "    ll =json.loads(l)\n",
    "    if i == 1:\n",
    "        purchase_log = {ll['user_id'] : ll['category']}\n",
    "        i += 1\n",
    "    else:\n",
    "        purchase_log[ll['user_id']] = ll['category'] "
   ]
  },
  {
   "cell_type": "code",
   "execution_count": 6,
   "metadata": {
    "scrolled": false
   },
   "outputs": [],
   "source": [
    "purchase_log"
   ]
  },
  {
   "cell_type": "markdown",
   "metadata": {},
   "source": [
    "# Задача №2"
   ]
  },
  {
   "cell_type": "code",
   "execution_count": 5,
   "metadata": {},
   "outputs": [],
   "source": [
    "f2 = open('visit_log.csv')\n",
    "\n",
    "with open('funnel.csv', 'w') as f3:\n",
    "    for line in f2:\n",
    "        line = line.strip()\n",
    "        a = line.split(',')\n",
    "        if purchase_log.get(a[0]) != None:\n",
    "            tt = a[0] + \";\" + a[1] + \";\" + purchase_log.get(a[0]) + \"\\n\"\n",
    "            f3.write(tt)\n",
    "    f3.close()"
   ]
  },
  {
   "cell_type": "code",
   "execution_count": null,
   "metadata": {},
   "outputs": [],
   "source": []
  }
 ],
 "metadata": {
  "kernelspec": {
   "display_name": "Python 3",
   "language": "python",
   "name": "python3"
  },
  "language_info": {
   "codemirror_mode": {
    "name": "ipython",
    "version": 3
   },
   "file_extension": ".py",
   "mimetype": "text/x-python",
   "name": "python",
   "nbconvert_exporter": "python",
   "pygments_lexer": "ipython3",
   "version": "3.8.5"
  }
 },
 "nbformat": 4,
 "nbformat_minor": 4
}
